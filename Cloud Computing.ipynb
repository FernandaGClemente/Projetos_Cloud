{
 "cells": [
  {
   "cell_type": "markdown",
   "id": "bf5884ac",
   "metadata": {},
   "source": [
    "<center><img width=\"25%\" src=\"https://www.camaramirimdoce.sc.gov.br/media/noticia/resumo-da-sessao-10-06-2019-111.png?w=848&h=450&t=P&c=f0f0f0&q=80&v=2\"></center>\n",
    "\n",
    "---\n",
    "\n",
    "<br>\n",
    "\n",
    "# Cloud Computing\n",
    "\n",
    "<br>"
   ]
  },
  {
   "cell_type": "markdown",
   "id": "e62d79ea",
   "metadata": {},
   "source": [
    "# **Sumário:**\n",
    "1. [Introdução](#Introdução)"
   ]
  },
  {
   "cell_type": "markdown",
   "id": "3bcf6060",
   "metadata": {},
   "source": [
    "### **Introdução** \n",
    "[&#x1F53C;](#Sumário:) Clique para voltar para o sumário"
   ]
  },
  {
   "cell_type": "markdown",
   "id": "d812d44d",
   "metadata": {},
   "source": [
    "#### Datacenter tem muita infraestrutura\n",
    "#### Datacenter publico = Tercerizado\n",
    "#### Datacenter privado = Interno\n",
    "#### Datacenter híbrido = Utilização do publico e do privado\n",
    "#### Antigamente, os ciberseguranças se preocupavam apenas com o perímetro. Hoje em dia, a confiança é zero, tanto interna quanto externa e com isso, realizar validações como:\n",
    "* Quem você é?\n",
    "* O que você pode fazer?\n",
    "* Como você acessará?\n",
    "#### Nomes de ataques:\n",
    "* fishing (Pesacaria) > Engenharia Social > Concientização da empresa, funcionários e clientes\n",
    "* tecdown (Derrubar o site)\n",
    "* Força bruta\n",
    "#### Teoria dos castelos\n",
    "#### Verificar o incidente: Antes, durante e depois\n",
    "#### FIDS: Troca de informação entre empresas sobre seguranças\n",
    "#### Transformação digital: Fisica para o online > Alteração cultural e cloud\n",
    "#### Cloud é contratado por consumo, por demanda: O profissional irá avaliar o quanto a empresa irá precisar e qual é o tipo de segurança. \n",
    "#### Comprar credenciais vazadas para proteger o cliente\n",
    "#### Cibersegurança x Segurança da informação\n",
    "#### Certificação Comptia security + CEH"
   ]
  }
 ],
 "metadata": {
  "kernelspec": {
   "display_name": "Python 3 (ipykernel)",
   "language": "python",
   "name": "python3"
  },
  "language_info": {
   "codemirror_mode": {
    "name": "ipython",
    "version": 3
   },
   "file_extension": ".py",
   "mimetype": "text/x-python",
   "name": "python",
   "nbconvert_exporter": "python",
   "pygments_lexer": "ipython3",
   "version": "3.9.16"
  }
 },
 "nbformat": 4,
 "nbformat_minor": 5
}
