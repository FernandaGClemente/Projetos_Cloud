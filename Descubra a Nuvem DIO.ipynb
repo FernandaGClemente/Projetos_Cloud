{
 "cells": [
  {
   "cell_type": "markdown",
   "id": "653cb2ea",
   "metadata": {},
   "source": [
    "## Descubra a Nuvem"
   ]
  },
  {
   "cell_type": "markdown",
   "id": "99ed8364",
   "metadata": {},
   "source": [
    "### Sumário: \n",
    "* Introdução ao Descubra a Nuvem\n",
    "* O que é Computação em Nuvem\n",
    "* Os 5 Benefícios do Cloud Computing\n",
    "* Os Modelos de Serviço na Nuvem\n",
    "    * Infrastructure as a Service (IaaS) = Infraestrutura como serviço = Criar um computador virtual para processar qualquer coisa, uma máquina para acessar remotamente\n",
    "    * Platform as a Service (PaaS) = Criação de aplicativos em nuvem\n",
    "    * Software as a Service (SaaS) = Software acessado remotamente, não precisa instalar no computador\n",
    "    * Container as a Service (CaaS) = Empacotar e executar aplicativos, mais fácil de gerenciar"
   ]
  },
  {
   "cell_type": "markdown",
   "id": "382b0228",
   "metadata": {},
   "source": [
    "### As seis vantagens da Computação em Nuvem: <br>\n",
    "#### Agora que você entendeu em linhas gerais o que é Computação em Nuvem, bem como os seus principais Benefícios e Modelos de Serviço, chegou o momento para você compreender também AS SEIS VANTAGENS DA COMPUTAÇÃO EM NUVEM. <br>\n",
    "\n",
    "#### Para isso, listamos abaixo cada uma delas segundo a documentação da AWS, as quais são fundamentais conhecer caso você queira obter as certificações oficiais da AWS. <br>\n",
    "\n",
    "#### As seis vantagens da computação em nuvem são:\n",
    "\n",
    "* 1. Troque as despesas de capital por despesas variáveis – Em vez de ter de investir pesadamente em datacenters e servidores antes de saber como vai usá-los, você pode usar a computação em nuvem e pagar somente pelos recursos consumidos.\n",
    "* 2. Beneficie-se de grandes economias de escala – Ao utilizar a computação em nuvem, você pode alcançar um custo variável mais baixo do que normalmente seria possível. Como o uso de centenas de milhares de clientes é agregado à nuvem, os provedores, como a AWS, podem alcançar maior economia de escala, o que se traduz em preços menores de pagamento conforme o uso.\n",
    "* 3. Pare de fazer suposições sobre capacidade – Elimine as suposições ao determinar sua necessidade de capacidade de infraestrutura. Ao tomar uma decisão sobre a capacidade antes da implantação da aplicação, muitas vezes você acaba lidando com a ociosidade de recursos caros ou com limites de capacidade. Com a computação em nuvem, esses problemas terminaram. Você pode acessar o máximo ou o mínimo de capacidade possível, além de aumentar e reduzir a escala na vertical conforme a necessidade, com apenas alguns minutos de aviso prévio.\n",
    "* 4. Aumente a velocidade e a agilidade – No ambiente de computação em nuvem, novos recursos de TI estão ao alcance com apenas um clique, o que significa que o tempo necessário para disponibilizar esses recursos aos desenvolvedores é reduzido de semanas para apenas minutos. Isso aumenta significativamente a agilidade da organização porque o custo e tempo necessários para experimentar e desenvolver é consideravelmente mais baixo.\n",
    "* 5. Pare de investir dinheiro em administração e manutenção de datacenters – Concentre-se em projetos que diferenciam seus negócios, não na infraestrutura. A computação em nuvem permite que você tenha como foco seus próprios clientes, em vez de centrar a atenção no pesado trabalho de montagem em rack, empilhamento e ativação dos servidores.\n",
    "* 6. Torne-se global em minutos – Implante facilmente sua aplicação em várias regiões ao redor do mundo com apenas alguns cliques. Isso significa que você pode fornecer menor latência e melhor experiência aos seus clientes a um custo mínimo.\n",
    "\n",
    "\n",
    "#### Para conferir mais detalhes e outras partes da documentação acesse o link: https://docs.aws.amazon.com/pt_br/whitepapers/latest/aws-overview/six-advantages-of-cloud-computing.html"
   ]
  },
  {
   "cell_type": "markdown",
   "id": "de1bf964",
   "metadata": {},
   "source": [
    "Amplie os seus conhecimentos na Cloud AWS\n",
    "Talento Cloud - Fast Lane LIVE (talento-cloud.com)\n",
    "> https://talento-cloud.com/talentocloud_pt/\n",
    "\n",
    "Skill Builder - AWS Skill Builder\n",
    "> https://explore.skillbuilder.aws/learn?dt=sec&sec=fdt"
   ]
  },
  {
   "cell_type": "markdown",
   "id": "a3010013",
   "metadata": {},
   "source": [
    "> https://web.dio.me/articles/descubra-a-nuvem?back=%2Farticles&open-modal=true&page=1&order=oldest"
   ]
  },
  {
   "cell_type": "markdown",
   "id": "4793295d",
   "metadata": {},
   "source": [
    "### Descubra a Nuvem AWS – LocalizaLabs\n"
   ]
  },
  {
   "cell_type": "markdown",
   "id": "d2dda82a",
   "metadata": {},
   "source": [
    "* Introdução a Nuvem AWS (Amazon S3, EC2 e RDS)\n",
    "* Introdução a Rede AWS\n",
    "* Principios de Regiões e Zonas de Disponibilidade\n",
    "* Principios Serviços da AWS\n",
    "* Conceitos importantes de segurança na AWS"
   ]
  },
  {
   "cell_type": "markdown",
   "id": "16225b2f",
   "metadata": {},
   "source": [
    "https://web.dio.me/course/conhecendo-os-servicos-da-aws/learning/2a84e98c-5b23-40b8-92b7-f106cca5a7be?back=/track/descubra-nuvem-aws-localizalabs-meu-futuro-e-tech&tab=undefined&moduleId=undefined"
   ]
  },
  {
   "cell_type": "code",
   "execution_count": null,
   "id": "f501cd14",
   "metadata": {},
   "outputs": [],
   "source": []
  }
 ],
 "metadata": {
  "kernelspec": {
   "display_name": "Python 3 (ipykernel)",
   "language": "python",
   "name": "python3"
  },
  "language_info": {
   "codemirror_mode": {
    "name": "ipython",
    "version": 3
   },
   "file_extension": ".py",
   "mimetype": "text/x-python",
   "name": "python",
   "nbconvert_exporter": "python",
   "pygments_lexer": "ipython3",
   "version": "3.9.16"
  }
 },
 "nbformat": 4,
 "nbformat_minor": 5
}
